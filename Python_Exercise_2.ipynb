{
  "nbformat": 4,
  "nbformat_minor": 0,
  "metadata": {
    "colab": {
      "name": "Python Exercise 2.ipynb",
      "provenance": []
    },
    "kernelspec": {
      "name": "python3",
      "display_name": "Python 3"
    },
    "language_info": {
      "name": "python"
    }
  },
  "cells": [
    {
      "cell_type": "code",
      "metadata": {
        "colab": {
          "base_uri": "https://localhost:8080/"
        },
        "id": "ekntpwzQfaVy",
        "outputId": "23a9e2a9-16ae-42f8-889f-c8f7d694e473"
      },
      "source": [
        "import numpy as np\n",
        "\n",
        "A = np.array([-5, 0]), ([4, 1])\n",
        "B = np.array([6, -3]), ([2, 3])\n",
        "\n",
        "sum = np.add(A, B)\n",
        "print('The Sum of A & B is:', sum)\n",
        "\n",
        "difference1 = np.subtract(B, A)\n",
        "print('The difference of B & A is:', difference1)\n",
        "\n",
        "difference2 = np.subtract(A, B)\n",
        "print('The difference of A & B is:', difference2)\n",
        "\n"
      ],
      "execution_count": 5,
      "outputs": [
        {
          "output_type": "stream",
          "name": "stdout",
          "text": [
            "The Sum of A & B is: [[ 1 -3]\n",
            " [ 6  4]]\n",
            "The difference of B & A is: [[11 -3]\n",
            " [-2  2]]\n",
            "The difference of A & B is: [[-11   3]\n",
            " [  2  -2]]\n"
          ]
        }
      ]
    }
  ]
}
