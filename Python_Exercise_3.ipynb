{
  "nbformat": 4,
  "nbformat_minor": 0,
  "metadata": {
    "colab": {
      "name": "Python_Exercise_3.ipynb",
      "provenance": [],
      "authorship_tag": "ABX9TyOrdlu78b/Cp00tGNE6T0JB",
      "include_colab_link": true
    },
    "kernelspec": {
      "name": "python3",
      "display_name": "Python 3"
    },
    "language_info": {
      "name": "python"
    }
  },
  "cells": [
    {
      "cell_type": "markdown",
      "metadata": {
        "id": "view-in-github",
        "colab_type": "text"
      },
      "source": [
        "<a href=\"https://colab.research.google.com/github/mhikerivera/Numerical-Methods/blob/main/Python_Exercise_3.ipynb\" target=\"_parent\"><img src=\"https://colab.research.google.com/assets/colab-badge.svg\" alt=\"Open In Colab\"/></a>"
      ]
    },
    {
      "cell_type": "code",
      "metadata": {
        "colab": {
          "base_uri": "https://localhost:8080/"
        },
        "id": "orUeaYcFhIlR",
        "outputId": "a49c8f5d-54f0-487d-879f-79c9daf849f6"
      },
      "source": [
        "import numpy as np\n",
        "\n",
        "#Determinants of Matrix\n",
        "\n",
        "A = np.array ([[1,2,-1],[4,6,-2], [-1,3,3]])\n",
        "print (A)\n",
        "print(np.linalg.det(A))\n",
        "print(round(np.linalg.det(A)))"
      ],
      "execution_count": 1,
      "outputs": [
        {
          "output_type": "stream",
          "name": "stdout",
          "text": [
            "[[ 1  2 -1]\n",
            " [ 4  6 -2]\n",
            " [-1  3  3]]\n",
            "-13.999999999999996\n",
            "-14\n"
          ]
        }
      ]
    }
  ]
}