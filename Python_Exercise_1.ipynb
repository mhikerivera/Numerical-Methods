{
  "nbformat": 4,
  "nbformat_minor": 0,
  "metadata": {
    "colab": {
      "name": "Python_Exercise_1.ipynb",
      "provenance": [],
      "collapsed_sections": [],
      "authorship_tag": "ABX9TyMxc38DReWesuWw5EZHrTQa",
      "include_colab_link": true
    },
    "kernelspec": {
      "name": "python3",
      "display_name": "Python 3"
    },
    "language_info": {
      "name": "python"
    }
  },
  "cells": [
    {
      "cell_type": "markdown",
      "metadata": {
        "id": "view-in-github",
        "colab_type": "text"
      },
      "source": [
        "<a href=\"https://colab.research.google.com/github/mhikerivera/Numerical-Methods/blob/main/Python_Exercise_1.ipynb\" target=\"_parent\"><img src=\"https://colab.research.google.com/assets/colab-badge.svg\" alt=\"Open In Colab\"/></a>"
      ]
    },
    {
      "cell_type": "code",
      "metadata": {
        "colab": {
          "base_uri": "https://localhost:8080/"
        },
        "id": "RkS7y53KoV2-",
        "outputId": "74ce9ad3-dc33-41ef-bd45-f19bd45a083e"
      },
      "source": [
        "name = input(\"Enter your Name:\" )\n",
        "course = input(\"Enter the Course:\")\n",
        "score1 = float(input(\"Enter Prelim Grade:\"))\n",
        "score2 = float(input(\"Enter Midterm Grade:\"))\n",
        "score3 = float(input(\"Enter Finals Grade:\"))\n",
        "average = float((score1) *.3 +(score2) *.3+ (score3) *.4)\n",
        "print(\"----------------------------------------\")\n",
        "print(\"Name:\" ,name)\n",
        "print(\"Course:\",course)\n",
        "print(\"Average is {:.2f}\".format(average))"
      ],
      "execution_count": null,
      "outputs": [
        {
          "output_type": "stream",
          "text": [
            "Enter your Name:Mhike Rivera\n",
            "Enter the Course:Numerical Methods\n",
            "Enter Prelim Grade:87\n",
            "Enter Midterm Grade:89\n",
            "Enter Finals Grade:93\n",
            "----------------------------------------\n",
            "Name: Mhike Rivera\n",
            "Course: Numerical Methods\n",
            "Average is 90.00\n"
          ],
          "name": "stdout"
        }
      ]
    }
  ]
}